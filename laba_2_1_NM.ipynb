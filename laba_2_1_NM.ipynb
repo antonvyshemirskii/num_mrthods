{
 "cells": [
  {
   "cell_type": "code",
   "execution_count": 1,
   "metadata": {},
   "outputs": [],
   "source": [
    "import numpy as np\n",
    "from numpy import linalg"
   ]
  },
  {
   "cell_type": "code",
   "execution_count": 2,
   "metadata": {},
   "outputs": [],
   "source": [
    "def stop_func(x_k, x_k_next, eps=0.00001):\n",
    "    return linalg.norm(x_k - x_k_next) < eps\n",
    "def loss(x_k, x_k_next):\n",
    "    return linalg.norm(x_k - x_k_next)"
   ]
  },
  {
   "cell_type": "code",
   "execution_count": 5,
   "metadata": {},
   "outputs": [],
   "source": [
    "def train(B, c, x_start=np.array([0.251, 0.161, 0.162, 0.15])):\n",
    "    x_k = x_start\n",
    "    k = 0\n",
    "    print(\"k\\t  x1\\tx2\\tx3\\tx4\\t||xk - xk+1||\")\n",
    "    while 1:\n",
    "        x_k_next = np.dot(B, x_k) + c\n",
    "        print(k, format(x_k_next[0], '.5f'), \n",
    "              format(x_k_next[1], '.5f'), \n",
    "              format(x_k_next[2], '.5f'), \n",
    "              format(x_k_next[3], '.5f'), \n",
    "              format(loss(x_k, x_k_next), '.6f'), sep='\\t')\n",
    "        if stop_func(x_k, x_k_next):\n",
    "            return x_k_next\n",
    "        else:\n",
    "            x_k = x_k_next\n",
    "            k += 1"
   ]
  },
  {
   "cell_type": "code",
   "execution_count": 7,
   "metadata": {},
   "outputs": [
    {
     "name": "stdout",
     "output_type": "stream",
     "text": [
      "k\t  x1\tx2\tx3\tx4\t||xk - xk+1||\n",
      "0\t0.21664\t0.13777\t0.13031\t0.12095\t0.152560\n",
      "1\t0.21268\t0.12029\t0.13233\t0.11039\t0.020906\n",
      "2\t0.21499\t0.12123\t0.13459\t0.11175\t0.003626\n",
      "3\t0.21452\t0.12071\t0.13433\t0.11127\t0.000886\n",
      "4\t0.21464\t0.12081\t0.13442\t0.11137\t0.000208\n",
      "5\t0.21461\t0.12079\t0.13440\t0.11134\t0.000051\n",
      "6\t0.21462\t0.12079\t0.13440\t0.11135\t0.000012\n",
      "7\t0.21462\t0.12079\t0.13440\t0.11135\t0.000003\n"
     ]
    }
   ],
   "source": [
    "B = np.array([[0, -0.075, -0.108, -0.115], [-0.093, 0, -0.091, -0.072], [-0.063, -0.111, 0, -0.006], [-0.069, -0.075, -0.11, 0]])\n",
    "c = np.array([0.251, 0.161, 0.162, 0.15])\n",
    "res = train(B,c)"
   ]
  },
  {
   "cell_type": "code",
   "execution_count": 9,
   "metadata": {},
   "outputs": [
    {
     "name": "stdout",
     "output_type": "stream",
     "text": [
      "Мої результати:\n",
      "0.21462 0.12079 0.13440 0.11135\n",
      "Вектор нев'язки:\n",
      "[-0.00115502  0.00162749 -0.0234599   0.00174306]\n",
      "Бібліотечне рішення: \n",
      "[0.21476316 0.12161152 0.12833403 0.11239265]\n"
     ]
    }
   ],
   "source": [
    "A = np.array([[3.476, 0.259, 0.376, 0.398], \n",
    "              [0.425, 4.583, 0.417, 0.328], \n",
    "              [0.252, 0.439, 3.972, 0.238], \n",
    "              [0.265, 0.291, 0.424, 3.864]])\n",
    "b = np.array([0.871, 0.739, 0.644, 0.581])\n",
    "print(\"Мої результати:\")\n",
    "print(format(res[0], '.5f'), format(res[1], '.5f'), format(res[2], '.5f'), format(res[3], '.5f'))\n",
    "my_accuracy = b - np.dot(A, res)\n",
    "print(\"Вектор нев'язки:\")\n",
    "print(my_accuracy)\n",
    "res_lib = linalg.solve(A, b)\n",
    "print(\"Бібліотечне рішення: \")\n",
    "print(res_lib)"
   ]
  },
  {
   "cell_type": "code",
   "execution_count": 10,
   "metadata": {},
   "outputs": [
    {
     "name": "stdout",
     "output_type": "stream",
     "text": [
      "k\t  x1\tx2\tx3\tx4\t||xk - xk+1||\n",
      "0\t0.23398\t0.13772\t0.14542\t0.12819\t0.160754\n",
      "1\t0.21023\t0.11678\t0.13120\t0.10753\t0.040389\n",
      "2\t0.21571\t0.12177\t0.13515\t0.11230\t0.009658\n",
      "3\t0.21436\t0.12056\t0.13422\t0.11112\t0.002357\n",
      "4\t0.21468\t0.12085\t0.13445\t0.11140\t0.000572\n",
      "5\t0.21460\t0.12078\t0.13439\t0.11133\t0.000139\n",
      "6\t0.21462\t0.12080\t0.13441\t0.11135\t0.000034\n",
      "7\t0.21462\t0.12079\t0.13440\t0.11135\t0.000008\n"
     ]
    }
   ],
   "source": [
    "x_start = c - np.array([0.1, 0.1, 0.1, 0.1])\n",
    "res_1 = train(B, c, x_start)"
   ]
  },
  {
   "cell_type": "code",
   "execution_count": 11,
   "metadata": {},
   "outputs": [
    {
     "name": "stdout",
     "output_type": "stream",
     "text": [
      "k\t  x1\tx2\tx3\tx4\t||xk - xk+1||\n",
      "0\t0.22318\t0.11932\t0.13912\t0.11029\t0.091284\n",
      "1\t0.21434\t0.11964\t0.13403\t0.11035\t0.010198\n",
      "2\t0.21486\t0.12092\t0.13455\t0.11149\t0.001866\n",
      "3\t0.21458\t0.12075\t0.13437\t0.11130\t0.000425\n",
      "4\t0.21463\t0.12080\t0.13441\t0.11136\t0.000102\n",
      "5\t0.21462\t0.12079\t0.13440\t0.11135\t0.000025\n",
      "6\t0.21462\t0.12079\t0.13440\t0.11135\t0.000006\n"
     ]
    }
   ],
   "source": [
    "x_start = c - np.array([0., 0.1, 0., 0.1])\n",
    "res_1 = train(B, c, x_start)"
   ]
  },
  {
   "cell_type": "code",
   "execution_count": 12,
   "metadata": {},
   "outputs": [
    {
     "name": "stdout",
     "output_type": "stream",
     "text": [
      "k\t  x1\tx2\tx3\tx4\t||xk - xk+1||\n",
      "0\t0.17438\t0.08652\t0.10942\t0.07739\t0.338700\n",
      "1\t0.22380\t0.12925\t0.14095\t0.11944\t0.083855\n",
      "2\t0.21235\t0.11876\t0.13284\t0.10936\t0.020214\n",
      "3\t0.21517\t0.12129\t0.13478\t0.11183\t0.004924\n",
      "4\t0.21449\t0.12067\t0.13431\t0.11123\t0.001196\n",
      "5\t0.21465\t0.12082\t0.13443\t0.11138\t0.000291\n",
      "6\t0.21461\t0.12079\t0.13440\t0.11134\t0.000071\n",
      "7\t0.21462\t0.12079\t0.13440\t0.11135\t0.000017\n",
      "8\t0.21462\t0.12079\t0.13440\t0.11135\t0.000004\n"
     ]
    }
   ],
   "source": [
    "x_start = c - np.array([-0.1, -0.1, -0.1, -0.1])\n",
    "res_1 = train(B, c, x_start)"
   ]
  },
  {
   "cell_type": "code",
   "execution_count": 13,
   "metadata": {},
   "outputs": [
    {
     "name": "stdout",
     "output_type": "stream",
     "text": [
      "k\t  x1\tx2\tx3\tx4\t||xk - xk+1||\n",
      "0\t0.22120\t0.13540\t0.14400\t0.12460\t0.135955\n",
      "1\t0.21096\t0.11835\t0.13229\t0.10874\t0.028000\n",
      "2\t0.21533\t0.12151\t0.13492\t0.11202\t0.006834\n",
      "3\t0.21443\t0.12063\t0.13427\t0.11119\t0.001638\n",
      "4\t0.21466\t0.12083\t0.13443\t0.11139\t0.000399\n",
      "5\t0.21461\t0.12078\t0.13440\t0.11134\t0.000097\n",
      "6\t0.21462\t0.12080\t0.13440\t0.11135\t0.000024\n",
      "7\t0.21462\t0.12079\t0.13440\t0.11135\t0.000006\n"
     ]
    }
   ],
   "source": [
    "x_start = np.array([0.1, 0.1, 0.1, 0.1])\n",
    "res_1 = train(B, c, x_start)"
   ]
  },
  {
   "cell_type": "code",
   "execution_count": 14,
   "metadata": {},
   "outputs": [
    {
     "name": "stdout",
     "output_type": "stream",
     "text": [
      "k\t  x1\tx2\tx3\tx4\t||xk - xk+1||\n",
      "0\t0.50218\t0.36811\t0.30742\t0.35679\t2.406426\n",
      "1\t0.14916\t0.06063\t0.08736\t0.05393\t0.599429\n",
      "2\t0.23082\t0.13530\t0.14555\t0.12555\t0.144077\n",
      "3\t0.21070\t0.11725\t0.13169\t0.10792\t0.035123\n",
      "4\t0.21557\t0.12165\t0.13506\t0.11218\t0.008531\n",
      "5\t0.21439\t0.12058\t0.13424\t0.11114\t0.002073\n",
      "6\t0.21468\t0.12084\t0.13444\t0.11140\t0.000504\n",
      "7\t0.21461\t0.12078\t0.13439\t0.11134\t0.000122\n",
      "8\t0.21462\t0.12080\t0.13441\t0.11135\t0.000030\n",
      "9\t0.21462\t0.12079\t0.13440\t0.11135\t0.000007\n"
     ]
    }
   ],
   "source": [
    "x_start = c - np.array([1, 1, 1, 1])\n",
    "res_1 = train(B, c, x_start)"
   ]
  },
  {
   "cell_type": "code",
   "execution_count": null,
   "metadata": {},
   "outputs": [],
   "source": []
  }
 ],
 "metadata": {
  "kernelspec": {
   "display_name": "Python 3",
   "language": "python",
   "name": "python3"
  },
  "language_info": {
   "codemirror_mode": {
    "name": "ipython",
    "version": 3
   },
   "file_extension": ".py",
   "mimetype": "text/x-python",
   "name": "python",
   "nbconvert_exporter": "python",
   "pygments_lexer": "ipython3",
   "version": "3.8.3"
  }
 },
 "nbformat": 4,
 "nbformat_minor": 4
}
