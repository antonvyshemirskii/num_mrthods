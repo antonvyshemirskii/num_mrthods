{
  "nbformat": 4,
  "nbformat_minor": 0,
  "metadata": {
    "colab": {
      "name": "task_1.ipynb",
      "provenance": [],
      "collapsed_sections": []
    },
    "kernelspec": {
      "name": "python3",
      "display_name": "Python 3"
    },
    "language_info": {
      "name": "python"
    }
  },
  "cells": [
    {
      "cell_type": "code",
      "execution_count": null,
      "metadata": {
        "id": "emkO48u7QW9b"
      },
      "outputs": [],
      "source": [
        "import numpy as np\n",
        "from scipy.optimize import fsolve"
      ]
    },
    {
      "cell_type": "code",
      "source": [
        "def x_iter(y):\n",
        "  return 1 - np.cos(y-1)\n",
        "\n",
        "def y_iter(x):\n",
        "  return 0.8 - np.sin(x)/2\n",
        "\n",
        "def func(x):\n",
        "    return [np.sin(x[0]) + 2*x[1] - 1.6,\n",
        "            np.cos(x[1] -1) + x[0] - 1]"
      ],
      "metadata": {
        "id": "04zyhMNgRCQv"
      },
      "execution_count": null,
      "outputs": []
    },
    {
      "cell_type": "code",
      "source": [
        "def loss(x_k, xk_1, y_k, yk_1):\n",
        "  return max(np.abs(xk_1-x_k,), np.abs(yk_1 - y_k))"
      ],
      "metadata": {
        "id": "aC5tWFRuRaeY"
      },
      "execution_count": null,
      "outputs": []
    },
    {
      "cell_type": "code",
      "source": [
        "\n",
        "def method_iter(x0, y0, k, eps=0.00001):\n",
        "  xk_1 = x_iter(y0)\n",
        "  yk_1 = y_iter(x0)\n",
        "  iter = k + 1\n",
        "  if(loss(x0, xk_1, y0, yk_1) < eps):\n",
        "    print(k, format(xk_1, '.5f'), format(yk_1, '.5f'), format(loss(x0, xk_1, y0, yk_1), '.5f'))\n",
        "    return \n",
        "  print(k, format(xk_1, '.5f'), format(yk_1, '.5f'), format(loss(x0, xk_1, y0, yk_1), '.5f'))\n",
        "  method_iter(xk_1, yk_1, iter)\n"
      ],
      "metadata": {
        "id": "lCqR48C6Ruhb"
      },
      "execution_count": null,
      "outputs": []
    },
    {
      "cell_type": "code",
      "source": [
        "print(\"k\\tx\\t y  loss\")\n",
        "print(0, format(0., '.5f'), format(0.7, '.5f'), '   -')\n",
        "result = method_iter(0., 0.7, 1)"
      ],
      "metadata": {
        "colab": {
          "base_uri": "https://localhost:8080/"
        },
        "id": "KpXBXu8WY0mi",
        "outputId": "691848bf-3034-48ef-9697-df185567bc72"
      },
      "execution_count": null,
      "outputs": [
        {
          "output_type": "stream",
          "name": "stdout",
          "text": [
            "k\tx\t y  loss\n",
            "0 0.00000 0.70000    -\n",
            "1 0.04466 0.80000 0.10000\n",
            "2 0.01993 0.77768 0.02473\n",
            "3 0.02461 0.79003 0.01236\n",
            "4 0.02196 0.78770 0.00265\n",
            "5 0.02245 0.78902 0.00132\n",
            "6 0.02217 0.78877 0.00028\n",
            "7 0.02223 0.78891 0.00014\n",
            "8 0.02220 0.78889 0.00003\n",
            "9 0.02220 0.78890 0.00001\n",
            "10 0.02220 0.78890 0.00000\n"
          ]
        }
      ]
    },
    {
      "cell_type": "code",
      "source": [
        "print(\"Обчислимо F(x*)\")\n",
        "print(func([0.0222, 0.7889]))"
      ],
      "metadata": {
        "colab": {
          "base_uri": "https://localhost:8080/"
        },
        "id": "wJT9_Lfwb5K1",
        "outputId": "29f096f8-aea5-41a7-94fb-1a8a38d7f655"
      },
      "execution_count": null,
      "outputs": [
        {
          "output_type": "stream",
          "name": "stdout",
          "text": [
            "Обчислимо F(x*)\n",
            "[-1.8234630656532858e-06, 1.0171719171392368e-06]\n"
          ]
        }
      ]
    },
    {
      "cell_type": "code",
      "source": [
        "print(\"k\\tx\\t y  loss\")\n",
        "print(0, format(-2, '.5f'), format(5, '.5f'), '   -')\n",
        "method_iter(-2, 5, 1)"
      ],
      "metadata": {
        "colab": {
          "base_uri": "https://localhost:8080/"
        },
        "id": "B9lkq0s-eHOI",
        "outputId": "ef6123c3-f9cb-43b1-a64f-6af78ff7da18"
      },
      "execution_count": null,
      "outputs": [
        {
          "output_type": "stream",
          "name": "stdout",
          "text": [
            "k\tx\t y  loss\n",
            "0 -2.00000 5.00000    -\n",
            "1 1.65364 1.25465 3.74535\n",
            "2 0.03225 0.30171 1.62140\n",
            "3 0.23405 0.78388 0.48216\n",
            "4 0.02326 0.68404 0.21079\n",
            "5 0.04950 0.78837 0.10433\n",
            "6 0.02231 0.77526 0.02719\n",
            "7 0.02515 0.78885 0.01359\n",
            "8 0.02221 0.78743 0.00294\n",
            "9 0.02251 0.78890 0.00147\n",
            "10 0.02220 0.78875 0.00031\n",
            "11 0.02223 0.78890 0.00015\n",
            "12 0.02220 0.78889 0.00003\n",
            "13 0.02220 0.78890 0.00002\n",
            "14 0.02220 0.78890 0.00000\n"
          ]
        }
      ]
    },
    {
      "cell_type": "code",
      "source": [
        "print(\"k\\tx\\t y  loss\")\n",
        "print(0, format(-0.0222, '.5f'), format(0.788, '.5f'), '   -')\n",
        "method_iter(-0.0222, 0.788, 1)"
      ],
      "metadata": {
        "colab": {
          "base_uri": "https://localhost:8080/"
        },
        "id": "9F3PAbTzf7UK",
        "outputId": "ee3b28be-1616-4789-a46d-1a1c01c6ca65"
      },
      "execution_count": null,
      "outputs": [
        {
          "output_type": "stream",
          "name": "stdout",
          "text": [
            "k\tx\t y  loss\n",
            "0 -0.02220 0.78800    -\n",
            "1 0.02239 0.81110 0.04459\n",
            "2 0.01779 0.78881 0.02229\n",
            "3 0.02222 0.79111 0.00443\n",
            "4 0.02174 0.78889 0.00221\n",
            "5 0.02220 0.78913 0.00046\n",
            "6 0.02215 0.78890 0.00023\n",
            "7 0.02220 0.78893 0.00005\n",
            "8 0.02219 0.78890 0.00002\n",
            "9 0.02220 0.78890 0.00001\n"
          ]
        }
      ]
    },
    {
      "cell_type": "code",
      "source": [
        "root = fsolve(func, [0., 0.7])\n",
        "root"
      ],
      "metadata": {
        "colab": {
          "base_uri": "https://localhost:8080/"
        },
        "id": "_PnGhcSreKpD",
        "outputId": "45821a78-82dd-458d-f408-17036672f1f9"
      },
      "execution_count": 16,
      "outputs": [
        {
          "output_type": "execute_result",
          "data": {
            "text/plain": [
              "array([0.02219865, 0.78890159])"
            ]
          },
          "metadata": {},
          "execution_count": 16
        }
      ]
    },
    {
      "cell_type": "code",
      "source": [
        ""
      ],
      "metadata": {
        "id": "knCMxLmKiChr"
      },
      "execution_count": null,
      "outputs": []
    }
  ]
}