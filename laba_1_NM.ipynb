{
 "cells": [
  {
   "cell_type": "code",
   "execution_count": 3,
   "metadata": {},
   "outputs": [],
   "source": [
    "from sympy import symbols, lambdify, diff, cos, roots\n",
    "import numpy as np\n",
    "import matplotlib.pyplot as plt\n",
    "from scipy.optimize import fsolve"
   ]
  },
  {
   "cell_type": "code",
   "execution_count": 4,
   "metadata": {},
   "outputs": [],
   "source": [
    "def eq1(x):\n",
    "    return (61*x**7+494*x**6+680*x**5-636*x**4-777*x**3+420*x**2+69*x-16)\n",
    "\n",
    "def eq2(x):\n",
    "    return x**0.5 - cos(0.387*x)"
   ]
  },
  {
   "cell_type": "code",
   "execution_count": 5,
   "metadata": {},
   "outputs": [
    {
     "name": "stdout",
     "output_type": "stream",
     "text": [
      "в точці -13.8 функція набуває значення -2763450230.9805956\n",
      "в точці -13.700000000000001 функція набуває значення -2607779910.319297\n",
      "в точці -13.600000000000001 функція набуває значення -2459617733.293725\n",
      "в точці -13.500000000000002 функція набуває значення -2318661918.46094\n",
      "в точці -13.400000000000002 функція набуває значення -2184620397.385897\n",
      "в точці -13.300000000000002 функція набуває значення -2057210579.7799075\n",
      "в точці -13.200000000000003 функція набуває значення -1936159122.4338727\n",
      "в точці -13.100000000000003 функція набуває значення -1821201701.9155369\n",
      "в точці -13.000000000000004 функція набуває значення -1712082791.0000038\n",
      "в точці -12.900000000000004 функція набуває значення -1608555438.802785\n",
      "в точці -12.800000000000004 функція набуває значення -1510381054.5846312\n",
      "в точці -12.700000000000005 функція набуває значення -1417329195.1974065\n",
      "в точці -12.600000000000005 функція набуває значення -1329177356.1402538\n",
      "в точці -12.500000000000005 функція набуває значення -1245710766.1953168\n",
      "в точці -12.400000000000006 функція набуває значення -1166722185.612267\n",
      "в точці -12.300000000000006 функція набуває значення -1092011707.8108952\n",
      "в точці -12.200000000000006 функція набуває значення -1021386564.571025\n",
      "в точці -12.100000000000007 функція набуває значення -954660934.6790004\n",
      "в точці -12.000000000000007 функція набуває значення -891655756.0000043\n",
      "в точці -11.900000000000007 функція набуває значення -832198540.9454681\n",
      "в точці -11.800000000000008 функція набуває значення -776123195.3048235\n",
      "в точці -11.700000000000008 функція набуває значення -723269840.4108534\n",
      "в точці -11.600000000000009 функція набуває значення -673484638.6079017\n",
      "в точці -11.500000000000009 функція набуває значення -626619621.9921916\n",
      "в точці -11.40000000000001 функція набуває значення -582532524.3935143\n",
      "в точці -11.30000000000001 функція набуває значення -541086616.5675418\n",
      "в точці -11.20000000000001 функція набуває значення -502150544.5680167\n",
      "в точці -11.10000000000001 функція набуває значення -465598171.26808274\n",
      "в точці -11.00000000000001 функція набуває значення -431308421.00000346\n",
      "в точці -10.900000000000011 функція набуває значення -399165127.2825303\n",
      "в точці -10.800000000000011 функція набуває значення -369056883.60517466\n",
      "в точці -10.700000000000012 функція набуває значення -340876897.2386395\n",
      "в точці -10.600000000000012 функція набуває значення -314522846.0406687\n",
      "в точці -10.500000000000012 функція набуває значення -289896738.2265655\n",
      "в точці -10.400000000000013 функція набуває значення -266904775.07364127\n",
      "в точці -10.300000000000013 функція набуває значення -245457216.52884734\n",
      "в точці -10.200000000000014 функція набуває значення -225468249.68884754\n",
      "в точці -10.100000000000014 функція набуває значення -206855860.12178466\n",
      "в точці -10.000000000000014 функція набуває значення -189541706.0000024\n",
      "в точці -9.900000000000015 функція набуває значення -173450995.01297227\n",
      "в точці -9.800000000000015 функція набуває значення -158512364.02968535\n",
      "в точці -9.700000000000015 функція набуває значення -144657761.47976542\n",
      "в точці -9.600000000000016 функція набуває значення -131822332.42255558\n",
      "в точці -9.500000000000016 функція набуває значення -119944306.27343929\n",
      "в точці -9.400000000000016 функція набуває значення -108964887.15664808\n",
      "в точці -9.300000000000017 функція набуває значення -98828146.85381334\n",
      "в точці -9.200000000000017 функція набуває значення -89480920.31751835\n",
      "в точці -9.100000000000017 функція набуває значення -80872703.71910653\n",
      "в точці -9.000000000000018 функція набуває значення -72955555.00000137\n",
      "в точці -8.900000000000018 функція набуває значення -65683996.89579415\n",
      "в точці -8.800000000000018 функція набуває значення -59014922.40235638\n",
      "в точці -8.700000000000019 функція набуває значення -52907502.65323139\n",
      "в точці -8.60000000000002 функція набуває значення -47323097.17756264\n",
      "в точці -8.50000000000002 функція набуває значення -42225166.50781347\n",
      "в точці -8.40000000000002 функція набуває значення -37579187.10653528\n",
      "в точці -8.30000000000002 функція набуває значення -33352568.58143953\n",
      "в точці -8.20000000000002 функція набуває значення -29514573.158029553\n",
      "в точці -8.100000000000021 функція набуває значення -26036237.37904878\n",
      "в точці -8.000000000000021 функція набуває значення -22890296.000000637\n",
      "в точці -7.900000000000022 функція набуває значення -20051108.049996488\n",
      "в точці -7.800000000000022 функція набуває значення -17494585.027187716\n",
      "в точці -7.700000000000022 функція набуває значення -15198121.1980378\n",
      "в точці -7.600000000000023 функція набуває значення -13140525.969690036\n",
      "в точці -7.500000000000023 функція набуває значення -11301958.304687902\n",
      "в точці -7.4000000000000234 функція набуває значення -9663863.14730275\n",
      "в точці -7.300000000000024 функція набуває значення -8208909.830726031\n",
      "в точці -7.200000000000024 функція набуває значення -6920932.434381094\n",
      "в точці -7.1000000000000245 функція набуває значення -5784872.060611357\n",
      "в точці -7.000000000000025 функція набуває значення -4786721.000000237\n",
      "в точці -6.900000000000025 функція набуває значення -3913468.7545791077\n",
      "в точці -6.800000000000026 функція набуває значення -3153049.888179377\n",
      "в точці -6.700000000000026 функція набуває значення -2494293.673184461\n",
      "в точці -6.600000000000026 функція набуває значення -1926875.5029377318\n",
      "в точці -6.500000000000027 функція набуває значення -1441270.039062622\n",
      "в точці -6.400000000000027 функція набуває значення -1028706.0629504969\n",
      "в точці -6.300000000000027 функція набуває значення -681123.0006727852\n",
      "в точці -6.200000000000028 функція набуває значення -391129.09057287633\n",
      "в точці -6.100000000000028 функція набуває значення -151961.16279416016\n",
      "в точці -6.000000000000028 функція набуває значення 42553.99999995154\n",
      "в точці -5.900000000000029 функція набуває значення 198036.7514580598\n",
      "в точці -5.800000000000029 функція набуває значення 319590.1506687707\n",
      "в точці -5.7000000000000295 функція набуває значення 411834.0423286772\n",
      "в точці -5.60000000000003 функція набуває значення 478937.67869438446\n",
      "в точці -5.50000000000003 функція набуває значення 524650.9140624885\n",
      "в точці -5.4000000000000306 функція набуває значення 552334.0025215956\n",
      "в точці -5.300000000000031 функція набуває значення 564986.0297202981\n",
      "в точці -5.200000000000031 функція набуває значення 565272.0093952024\n",
      "в точці -5.100000000000032 функція набуває значення 555548.6754029026\n",
      "в точці -5.000000000000032 функція набуває значення 537889.0000000066\n",
      "в точці -4.900000000000032 функція набуває значення 514105.46911510924\n",
      "в точці -4.800000000000033 функція набуває значення 485772.14535680995\n",
      "в точці -4.700000000000033 функція набуває значення 454245.549501711\n",
      "в точці -4.600000000000033 функція набуває значення 420684.39120641194\n",
      "в точці -4.500000000000034 функція набуває значення 386068.1796875116\n",
      "в точці -4.400000000000034 функція набуває значення 351214.74511361157\n",
      "в точці -4.3000000000000345 функція набуває значення 316796.70145331207\n",
      "в точці -4.200000000000035 функція набуває значення 283356.88152321125\n",
      "в точці -4.100000000000035 функція набуває значення 251322.77497991102\n",
      "в точці -4.0000000000000355 функція набуває значення 221020.0000000103\n",
      "в точці -3.9000000000000354 функція набуває значення 192684.8393921094\n",
      "в точці -3.8000000000000353 функція набуває значення 166475.87188480876\n",
      "в точці -3.7000000000000353 функція набуває значення 142484.72933470798\n",
      "в точці -3.600000000000035 функція набуває значення 120746.01059840717\n",
      "в точці -3.500000000000035 функція набуває значення 101246.38281250642\n",
      "в точці -3.400000000000035 функція набуває значення 83932.90082560582\n",
      "в точці -3.300000000000035 функція набуває значення 68720.57552630495\n",
      "в точці -3.200000000000035 функція набуває значення 55499.221811204174\n",
      "в точці -3.1000000000000347 функція набуває значення 44139.61693690359\n",
      "в точці -3.0000000000000346 функція набуває значення 34499.000000003005\n",
      "в точці -2.9000000000000346 функція набуває значення 26425.943289102557\n",
      "в точці -2.8000000000000345 функція набуває значення 19764.62625280206\n",
      "в точці -2.7000000000000344 функція набуває значення 14358.542827701682\n",
      "в точці -2.6000000000000343 функція набуває значення 10053.6728704013\n",
      "в точці -2.500000000000034 функція набуває значення 6701.148437500997\n",
      "в точці -2.400000000000034 функція набуває значення 4159.445657600739\n",
      "в точці -2.300000000000034 функція набуває значення 2296.1329393005317\n",
      "в точці -2.200000000000034 функція набуває значення 989.2062592003589\n",
      "в точці -2.100000000000034 функція набуває значення 128.04227390022336\n",
      "в точці -2.0000000000000338 функція набуває значення -385.9999999998784\n",
      "в точці -1.9000000000000337 функція набуває значення -639.2981938999509\n",
      "в точці -1.8000000000000336 функція набуває значення -705.9755392000034\n",
      "в точці -1.7000000000000335 функція набуває значення -648.1690193000346\n",
      "в точці -1.6000000000000334 функція набуває значення -516.5259776000514\n",
      "в точці -1.5000000000000333 функція набуває значення -350.8984375000572\n",
      "в точці -1.4000000000000332 функція набуває значення -181.2043904000543\n",
      "в точці -1.3000000000000331 функція набуває значення -28.425307700045977\n",
      "в точці -1.200000000000033 функція набуває значення 94.29086719996513\n",
      "в точці -1.100000000000033 функція набуває значення 180.4519908999778\n",
      "в точці -1.0000000000000329 функція набуває значення 228.9999999999901\n",
      "в точці -0.9000000000000329 функція набуває значення 243.07594310000036\n",
      "в точці -0.8000000000000329 функція набуває значення 228.80250880000852\n",
      "в точці -0.7000000000000329 функція набуває значення 194.11479370001388\n",
      "в точці -0.600000000000033 функція набуває значення 147.6700544000163\n",
      "в точці -0.500000000000033 функція набуває значення 97.86718750001614\n",
      "в точці -0.400000000000033 функція набуває значення 52.00668160001382\n",
      "в точці -0.300000000000033 функція набуває значення 15.621785300010025\n",
      "в точці -0.200000000000033 функція набуває значення -7.988364799994475\n",
      "в точці -0.100000000000033 функція набуває значення -17.99291209999883\n",
      "в точці -3.300137940698278e-14 функція набуває значення -16.000000000002277\n",
      "в точці 0.099999999999967 функція набуває значення -5.733299900004209\n",
      "в точці 0.199999999999967 функція набуває значення 7.616396799995719\n",
      "в точці 0.299999999999967 функція набуває значення 18.395266699997435\n",
      "в точці 0.39999999999996705 функція набуває значення 21.87696640000039\n",
      "в точці 0.499999999999967 функція набуває значення 16.070312500003283\n",
      "в точці 0.599999999999967 функція набуває значення 3.974873600004109\n"
     ]
    },
    {
     "name": "stdout",
     "output_type": "stream",
     "text": [
      "в точці 0.699999999999967 функція набуває значення -3.6847817000002436\n",
      "в точці 0.799999999999967 функція набуває значення 14.784563199986003\n",
      "в точці 0.8999999999999669 функція набуває значення 95.8285648999574\n",
      "в точці 0.9999999999999669 функція набуває значення 294.9999999999065\n",
      "в точці 1.099999999999967 функція набуває значення 691.9150770998251\n",
      "в точці 1.199999999999967 функція набуває значення 1395.8421247997028\n",
      "в точці 1.2999999999999672 функція набуває значення 2551.953399699527\n",
      "в точці 1.3999999999999673 функція набуває значення 4348.270758399282\n",
      "в точці 1.4999999999999674 функція набуває значення 7023.335937498953\n",
      "в точці 1.5999999999999674 функція набуває значення 10874.636185598516\n",
      "в точці 1.6999999999999675 функція набуває значення 16267.815991297955\n",
      "в точці 1.7999999999999676 функція набуває значення 23646.705651197233\n",
      "в точці 1.8999999999999677 функція набуває значення 33544.19742189634\n",
      "в точці 1.9999999999999678 функція набуває значення 46593.99999999523\n",
      "в точці 2.0999999999999677 функція набуває значення 63543.302074093786\n",
      "в точці 2.1999999999999678 функція набуває значення 85266.37569279213\n",
      "в точці 2.299999999999968 функція набуває значення 112779.15019269013\n",
      "в точці 2.399999999999968 функція набуває значення 147254.78743038772\n",
      "в точці 2.499999999999968 функція набуває значення 190040.28906248487\n",
      "в точці 2.599999999999968 функція набуває значення 242674.16661758145\n",
      "в точці 2.699999999999968 функція набуває значення 306905.2051042775\n",
      "в точці 2.7999999999999683 функція набуває значення 384712.350899173\n",
      "в точці 2.8999999999999684 функція набуває значення 478325.7546588676\n",
      "в точці 2.9999999999999685 функція набуває значення 590248.9999999616\n",
      "в точці 3.0999999999999686 функція набуває значення 723282.5486910546\n",
      "в точці 3.1999999999999686 функція набуває значення 880548.4331007467\n",
      "в точці 3.2999999999999687 функція набуває значення 1065516.2266456375\n",
      "в точці 3.399999999999969 функція набуває значення 1282030.3229823273\n"
     ]
    },
    {
     "data": {
      "text/plain": [
       "[[-6.100000000000028, -6.000000000000028],\n",
       " [-2.100000000000034, -2.0000000000000338],\n",
       " [-1.3000000000000331, -1.200000000000033],\n",
       " [-0.300000000000033, -0.200000000000033],\n",
       " [0.099999999999967, 0.199999999999967],\n",
       " [0.599999999999967, 0.699999999999967],\n",
       " [0.699999999999967, 0.799999999999967]]"
      ]
     },
     "execution_count": 5,
     "metadata": {},
     "output_type": "execute_result"
    }
   ],
   "source": [
    "inter_of_roots = [[0, 0] for i in range(7)]\n",
    "t=-13.8\n",
    "i = 0\n",
    "while t<3.4:\n",
    "    if eq1(t)*eq1(t+0.1)<0:\n",
    "        inter_of_roots[i] = [t, t+0.1]\n",
    "        i += 1\n",
    "    print('в точці', t, 'функція набуває значення', eq1(t))\n",
    "    t =t+0.1\n",
    "inter_of_roots"
   ]
  },
  {
   "cell_type": "code",
   "execution_count": 6,
   "metadata": {},
   "outputs": [
    {
     "data": {
      "image/png": "[encoded data removed]",
      "text/plain": [
       "<Figure size 432x288 with 1 Axes>"
      ]
     },
     "metadata": {
      "needs_background": "light"
     },
     "output_type": "display_data"
    }
   ],
   "source": [
    "t=np.linspace(0.0001,40,1000)\n",
    "plt.plot(t,t**0.5 - np.cos(0.387*t))\n",
    "plt.grid()"
   ]
  },
  {
   "cell_type": "code",
   "execution_count": 7,
   "metadata": {},
   "outputs": [
    {
     "name": "stdout",
     "output_type": "stream",
     "text": [
      "в точці 0 функція набуває значення -1.00000000000000\n",
      "в точці 0.1 функція набуває значення -0.683023482439969\n",
      "в точці 0.2 функція набуває значення -0.549792519585015\n",
      "в точці 0.30000000000000004 функція набуває значення -0.445545404473487\n",
      "в точці 0.4 функція набуває значення -0.355586854999986\n",
      "в точці 0.5 функція набуває значення -0.274230434378058\n",
      "в точці 0.6 функція набуває значення -0.198565819344973\n",
      "в точці 0.7 функція набуває значення -0.126870421244016\n",
      "в точці 0.7999999999999999 функція набуває значення -0.0580283261504364\n",
      "в точці 0.8999999999999999 функція набуває значення 0.00872901660447989\n",
      "в точці 0.9999999999999999 функція набуває значення 0.0739545386958124\n"
     ]
    },
    {
     "data": {
      "text/plain": [
       "[0.7999999999999999, 0.95]"
      ]
     },
     "execution_count": 7,
     "metadata": {},
     "output_type": "execute_result"
    }
   ],
   "source": [
    "inter_of_root = [0,0]\n",
    "t = 0\n",
    "while t<1:\n",
    "    if eq2(t)*eq2(t+0.1)<0:\n",
    "        inter_of_root[0] = t\n",
    "        inter_of_root[1] = t + 0.15\n",
    "    print('в точці', t, 'функція набуває значення', eq2(t))\n",
    "    t =t+0.1\n",
    "inter_of_root"
   ]
  },
  {
   "cell_type": "code",
   "execution_count": 8,
   "metadata": {},
   "outputs": [],
   "source": [
    "def bisec(a, b, eq, eps=0.00001):\n",
    "    c = (a+b)*0.5\n",
    "    if abs(b-a)<eps and abs(eq(c))<eps:\n",
    "        print(f\"Наближена відповідь = {c}\")\n",
    "        print(\"-\"*50)\n",
    "        return c\n",
    "    else:\n",
    "        print(f\"Значення: а={a}, b={b}, c={c}.\")\n",
    "        if eq(a)*eq(c)<0:\n",
    "            b=c\n",
    "            return bisec(a, b, eq)\n",
    "        else:\n",
    "            a=c\n",
    "            return bisec(a, b, eq)"
   ]
  },
  {
   "cell_type": "code",
   "execution_count": 9,
   "metadata": {},
   "outputs": [],
   "source": [
    "def hord(a, b, eq, eps=0.00001):\n",
    "    x = symbols('x')\n",
    "    d2x = lambdify(x, diff(eq(x), x, 2))\n",
    "    x = [0, 0]\n",
    "    k = 0\n",
    "    if d2x((a+b)*0.5)*eq(a)>0:\n",
    "        x[0] = b \n",
    "        while abs(x[0]-x[1])> eps or abs(eq(x[0]))> eps:\n",
    "            x[1] = x[0] - eq(x[0])*(x[0]-a)/(eq(x[0])-eq(a))\n",
    "            print(f\"x{k}={x[0]}, x{k+1}={x[1]}\")\n",
    "            x[0] = x[1]\n",
    "            k += 1\n",
    "    else:\n",
    "        x[0] = a\n",
    "        while abs(x[0]-x[1])> 0.00001 or abs(eq(x[0]))> 0.00001:\n",
    "            x[1] = x[0] - eq(x[0])*(x[0]-b)/(eq(x[0])-eq(b))\n",
    "            print(f\"x{k}={x[0]}, x{k+1}={x[1]}\")\n",
    "            x[0] = x[1]\n",
    "            k += 1\n",
    "    print(\"-\"*50)\n",
    "    return x[0]   "
   ]
  },
  {
   "cell_type": "code",
   "execution_count": 10,
   "metadata": {},
   "outputs": [],
   "source": [
    "def neuton(a, b, eq, eps=0.00001):\n",
    "    k = 0 \n",
    "    x = symbols('x')\n",
    "    d1x = lambdify(x, diff(eq(x), x, 1))\n",
    "    d2x = lambdify(x, diff(eq(x), x, 2))\n",
    "    x = [0, 0]\n",
    "    for t in np.linspace(a, b, 10):\n",
    "        if eq(t)*d2x(t)>0:\n",
    "            x[0] = t\n",
    "            break\n",
    "    while abs(x[0]-x[1])> eps or abs(eq(x[0]))> eps:\n",
    "            x[1] = x[0] - eq(x[0])/d1x(float(x[0]))\n",
    "            print(f\"x{k}={x[0]}, x{k+1}={x[1]}, f(X)={eq(x[1])}\")\n",
    "            x[0] = x[1]\n",
    "            k += 1\n",
    "    print(\"-\"*50)\n",
    "    return x[0]   "
   ]
  },
  {
   "cell_type": "code",
   "execution_count": 11,
   "metadata": {},
   "outputs": [
    {
     "name": "stdout",
     "output_type": "stream",
     "text": [
      "Значення: а=-6.100000000000028, b=-6.000000000000028, c=-6.050000000000028.\n",
      "Значення: а=-6.050000000000028, b=-6.000000000000028, c=-6.025000000000029.\n",
      "Значення: а=-6.025000000000029, b=-6.000000000000028, c=-6.012500000000029.\n",
      "Значення: а=-6.025000000000029, b=-6.012500000000029, c=-6.018750000000029.\n",
      "Значення: а=-6.025000000000029, b=-6.018750000000029, c=-6.021875000000029.\n",
      "Значення: а=-6.025000000000029, b=-6.021875000000029, c=-6.023437500000028.\n",
      "Значення: а=-6.025000000000029, b=-6.023437500000028, c=-6.024218750000029.\n",
      "Значення: а=-6.024218750000029, b=-6.023437500000028, c=-6.023828125000028.\n",
      "Значення: а=-6.023828125000028, b=-6.023437500000028, c=-6.023632812500028.\n",
      "Значення: а=-6.023828125000028, b=-6.023632812500028, c=-6.023730468750028.\n",
      "Значення: а=-6.023828125000028, b=-6.023730468750028, c=-6.023779296875028.\n",
      "Значення: а=-6.023828125000028, b=-6.023779296875028, c=-6.023803710937528.\n",
      "Значення: а=-6.023803710937528, b=-6.023779296875028, c=-6.023791503906278.\n",
      "Значення: а=-6.023803710937528, b=-6.023791503906278, c=-6.023797607421903.\n",
      "Значення: а=-6.023803710937528, b=-6.023797607421903, c=-6.023800659179716.\n",
      "Значення: а=-6.023800659179716, b=-6.023797607421903, c=-6.023799133300809.\n",
      "Значення: а=-6.023800659179716, b=-6.023799133300809, c=-6.023799896240263.\n",
      "Значення: а=-6.023800659179716, b=-6.023799896240263, c=-6.02380027770999.\n",
      "Значення: а=-6.02380027770999, b=-6.023799896240263, c=-6.023800086975126.\n",
      "Значення: а=-6.02380027770999, b=-6.023800086975126, c=-6.023800182342558.\n",
      "Значення: а=-6.023800182342558, b=-6.023800086975126, c=-6.023800134658842.\n",
      "Значення: а=-6.023800182342558, b=-6.023800134658842, c=-6.0238001585007.\n",
      "Значення: а=-6.023800182342558, b=-6.0238001585007, c=-6.023800170421629.\n",
      "Значення: а=-6.023800170421629, b=-6.0238001585007, c=-6.023800164461164.\n",
      "Значення: а=-6.023800164461164, b=-6.0238001585007, c=-6.023800161480932.\n",
      "Значення: а=-6.023800164461164, b=-6.023800161480932, c=-6.023800162971048.\n",
      "Значення: а=-6.023800164461164, b=-6.023800162971048, c=-6.023800163716106.\n",
      "Значення: а=-6.023800164461164, b=-6.023800163716106, c=-6.023800164088636.\n",
      "Значення: а=-6.023800164088636, b=-6.023800163716106, c=-6.02380016390237.\n",
      "Значення: а=-6.02380016390237, b=-6.023800163716106, c=-6.023800163809238.\n",
      "Значення: а=-6.023800163809238, b=-6.023800163716106, c=-6.023800163762672.\n",
      "Значення: а=-6.023800163809238, b=-6.023800163762672, c=-6.023800163785955.\n",
      "Наближена відповідь = -6.023800163774314\n",
      "--------------------------------------------------\n",
      "Значення: а=-2.100000000000034, b=-2.0000000000000338, c=-2.0500000000000336.\n",
      "Значення: а=-2.100000000000034, b=-2.0500000000000336, c=-2.075000000000034.\n",
      "Значення: а=-2.100000000000034, b=-2.075000000000034, c=-2.087500000000034.\n",
      "Значення: а=-2.087500000000034, b=-2.075000000000034, c=-2.081250000000034.\n",
      "Значення: а=-2.081250000000034, b=-2.075000000000034, c=-2.0781250000000338.\n",
      "Значення: а=-2.081250000000034, b=-2.0781250000000338, c=-2.079687500000034.\n",
      "Значення: а=-2.081250000000034, b=-2.079687500000034, c=-2.0804687500000343.\n",
      "Значення: а=-2.0804687500000343, b=-2.079687500000034, c=-2.080078125000034.\n",
      "Значення: а=-2.080078125000034, b=-2.079687500000034, c=-2.079882812500034.\n",
      "Значення: а=-2.080078125000034, b=-2.079882812500034, c=-2.0799804687500343.\n",
      "Значення: а=-2.0799804687500343, b=-2.079882812500034, c=-2.079931640625034.\n",
      "Значення: а=-2.0799804687500343, b=-2.079931640625034, c=-2.079956054687534.\n",
      "Значення: а=-2.079956054687534, b=-2.079931640625034, c=-2.079943847656284.\n",
      "Значення: а=-2.079943847656284, b=-2.079931640625034, c=-2.079937744140659.\n",
      "Значення: а=-2.079937744140659, b=-2.079931640625034, c=-2.079934692382847.\n",
      "Значення: а=-2.079934692382847, b=-2.079931640625034, c=-2.0799331665039404.\n",
      "Значення: а=-2.0799331665039404, b=-2.079931640625034, c=-2.079932403564487.\n",
      "Значення: а=-2.0799331665039404, b=-2.079932403564487, c=-2.079932785034214.\n",
      "Значення: а=-2.0799331665039404, b=-2.079932785034214, c=-2.0799329757690774.\n",
      "Значення: а=-2.0799329757690774, b=-2.079932785034214, c=-2.0799328804016457.\n",
      "Значення: а=-2.0799329757690774, b=-2.0799328804016457, c=-2.079932928085362.\n",
      "Значення: а=-2.0799329757690774, b=-2.079932928085362, c=-2.0799329519272196.\n",
      "Значення: а=-2.0799329519272196, b=-2.079932928085362, c=-2.079932940006291.\n",
      "Значення: а=-2.079932940006291, b=-2.079932928085362, c=-2.0799329340458264.\n",
      "Наближена відповідь = -2.079932937026059\n",
      "--------------------------------------------------\n",
      "Значення: а=-1.3000000000000331, b=-1.200000000000033, c=-1.250000000000033.\n",
      "Значення: а=-1.3000000000000331, b=-1.250000000000033, c=-1.2750000000000332.\n",
      "Значення: а=-1.3000000000000331, b=-1.2750000000000332, c=-1.2875000000000332.\n",
      "Значення: а=-1.2875000000000332, b=-1.2750000000000332, c=-1.2812500000000333.\n",
      "Значення: а=-1.2812500000000333, b=-1.2750000000000332, c=-1.2781250000000333.\n",
      "Значення: а=-1.2812500000000333, b=-1.2781250000000333, c=-1.2796875000000334.\n",
      "Значення: а=-1.2796875000000334, b=-1.2781250000000333, c=-1.2789062500000332.\n",
      "Значення: а=-1.2796875000000334, b=-1.2789062500000332, c=-1.2792968750000333.\n",
      "Значення: а=-1.2792968750000333, b=-1.2789062500000332, c=-1.2791015625000333.\n",
      "Значення: а=-1.2792968750000333, b=-1.2791015625000333, c=-1.2791992187500334.\n",
      "Значення: а=-1.2791992187500334, b=-1.2791015625000333, c=-1.2791503906250332.\n",
      "Значення: а=-1.2791503906250332, b=-1.2791015625000333, c=-1.2791259765625331.\n",
      "Значення: а=-1.2791259765625331, b=-1.2791015625000333, c=-1.2791137695312833.\n",
      "Значення: а=-1.2791137695312833, b=-1.2791015625000333, c=-1.2791076660156584.\n",
      "Значення: а=-1.2791137695312833, b=-1.2791076660156584, c=-1.2791107177734709.\n",
      "Значення: а=-1.2791137695312833, b=-1.2791107177734709, c=-1.279112243652377.\n",
      "Значення: а=-1.279112243652377, b=-1.2791107177734709, c=-1.279111480712924.\n",
      "Значення: а=-1.279111480712924, b=-1.2791107177734709, c=-1.2791110992431975.\n",
      "Значення: а=-1.279111480712924, b=-1.2791110992431975, c=-1.2791112899780608.\n",
      "Значення: а=-1.2791112899780608, b=-1.2791110992431975, c=-1.2791111946106293.\n",
      "Значення: а=-1.2791112899780608, b=-1.2791111946106293, c=-1.279111242294345.\n",
      "Значення: а=-1.2791112899780608, b=-1.279111242294345, c=-1.2791112661362027.\n",
      "Наближена відповідь = -1.2791112542152738\n",
      "--------------------------------------------------\n",
      "Значення: а=-0.300000000000033, b=-0.200000000000033, c=-0.25000000000003303.\n",
      "Значення: а=-0.25000000000003303, b=-0.200000000000033, c=-0.225000000000033.\n",
      "Значення: а=-0.25000000000003303, b=-0.225000000000033, c=-0.23750000000003302.\n",
      "Значення: а=-0.25000000000003303, b=-0.23750000000003302, c=-0.24375000000003302.\n",
      "Значення: а=-0.24375000000003302, b=-0.23750000000003302, c=-0.240625000000033.\n",
      "Значення: а=-0.24375000000003302, b=-0.240625000000033, c=-0.24218750000003303.\n",
      "Значення: а=-0.24218750000003303, b=-0.240625000000033, c=-0.24140625000003302.\n",
      "Значення: а=-0.24140625000003302, b=-0.240625000000033, c=-0.241015625000033.\n",
      "Значення: а=-0.241015625000033, b=-0.240625000000033, c=-0.240820312500033.\n",
      "Значення: а=-0.241015625000033, b=-0.240820312500033, c=-0.24091796875003302.\n",
      "Значення: а=-0.24091796875003302, b=-0.240820312500033, c=-0.240869140625033.\n",
      "Значення: а=-0.240869140625033, b=-0.240820312500033, c=-0.240844726562533.\n",
      "Значення: а=-0.240844726562533, b=-0.240820312500033, c=-0.24083251953128298.\n",
      "Значення: а=-0.240844726562533, b=-0.24083251953128298, c=-0.240838623046908.\n",
      "Значення: а=-0.240838623046908, b=-0.24083251953128298, c=-0.2408355712890955.\n",
      "Значення: а=-0.240838623046908, b=-0.2408355712890955, c=-0.24083709716800175.\n",
      "Значення: а=-0.24083709716800175, b=-0.2408355712890955, c=-0.2408363342285486.\n",
      "Значення: а=-0.2408363342285486, b=-0.2408355712890955, c=-0.24083595275882205.\n",
      "Значення: а=-0.2408363342285486, b=-0.24083595275882205, c=-0.24083614349368532.\n",
      "Наближена відповідь = -0.24083623886111696\n",
      "--------------------------------------------------\n",
      "Значення: а=0.099999999999967, b=0.199999999999967, c=0.149999999999967.\n",
      "Значення: а=0.099999999999967, b=0.149999999999967, c=0.124999999999967.\n",
      "Значення: а=0.124999999999967, b=0.149999999999967, c=0.13749999999996698.\n",
      "Значення: а=0.13749999999996698, b=0.149999999999967, c=0.143749999999967.\n",
      "Значення: а=0.13749999999996698, b=0.143749999999967, c=0.14062499999996697.\n",
      "Значення: а=0.14062499999996697, b=0.143749999999967, c=0.142187499999967.\n",
      "Значення: а=0.142187499999967, b=0.143749999999967, c=0.142968749999967.\n",
      "Значення: а=0.142968749999967, b=0.143749999999967, c=0.14335937499996698.\n",
      "Значення: а=0.142968749999967, b=0.14335937499996698, c=0.143164062499967.\n",
      "Значення: а=0.143164062499967, b=0.14335937499996698, c=0.143261718749967.\n",
      "Значення: а=0.143261718749967, b=0.14335937499996698, c=0.14331054687496697.\n",
      "Значення: а=0.143261718749967, b=0.14331054687496697, c=0.143286132812467.\n",
      "Значення: а=0.143261718749967, b=0.143286132812467, c=0.143273925781217.\n",
      "Значення: а=0.143273925781217, b=0.143286132812467, c=0.143280029296842.\n",
      "Значення: а=0.143273925781217, b=0.143280029296842, c=0.14327697753902952.\n",
      "Значення: а=0.143273925781217, b=0.14327697753902952, c=0.14327545166012326.\n",
      "Значення: а=0.14327545166012326, b=0.14327697753902952, c=0.1432762145995764.\n",
      "Наближена відповідь = 0.14327659606930296\n",
      "--------------------------------------------------\n",
      "Значення: а=0.599999999999967, b=0.699999999999967, c=0.649999999999967.\n",
      "Значення: а=0.599999999999967, b=0.649999999999967, c=0.624999999999967.\n",
      "Значення: а=0.624999999999967, b=0.649999999999967, c=0.6374999999999671.\n",
      "Значення: а=0.624999999999967, b=0.6374999999999671, c=0.631249999999967.\n",
      "Значення: а=0.631249999999967, b=0.6374999999999671, c=0.634374999999967.\n",
      "Значення: а=0.634374999999967, b=0.6374999999999671, c=0.6359374999999671.\n",
      "Значення: а=0.634374999999967, b=0.6359374999999671, c=0.635156249999967.\n",
      "Значення: а=0.634374999999967, b=0.635156249999967, c=0.634765624999967.\n",
      "Значення: а=0.634374999999967, b=0.634765624999967, c=0.6345703124999671.\n",
      "Значення: а=0.634374999999967, b=0.6345703124999671, c=0.6344726562499671.\n",
      "Значення: а=0.634374999999967, b=0.6344726562499671, c=0.634423828124967.\n",
      "Значення: а=0.634423828124967, b=0.6344726562499671, c=0.6344482421874671.\n",
      "Значення: а=0.6344482421874671, b=0.6344726562499671, c=0.6344604492187171.\n",
      "Значення: а=0.6344604492187171, b=0.6344726562499671, c=0.634466552734342.\n",
      "Наближена відповідь = 0.6344696044921545\n",
      "--------------------------------------------------\n",
      "Значення: а=0.699999999999967, b=0.799999999999967, c=0.7499999999999669.\n",
      "Значення: а=0.699999999999967, b=0.7499999999999669, c=0.724999999999967.\n",
      "Значення: а=0.724999999999967, b=0.7499999999999669, c=0.737499999999967.\n",
      "Значення: а=0.737499999999967, b=0.7499999999999669, c=0.7437499999999669.\n",
      "Значення: а=0.7437499999999669, b=0.7499999999999669, c=0.7468749999999669.\n",
      "Значення: а=0.7468749999999669, b=0.7499999999999669, c=0.7484374999999669.\n",
      "Значення: а=0.7468749999999669, b=0.7484374999999669, c=0.7476562499999668.\n",
      "Значення: а=0.7468749999999669, b=0.7476562499999668, c=0.7472656249999668.\n",
      "Значення: а=0.7472656249999668, b=0.7476562499999668, c=0.7474609374999668.\n",
      "Значення: а=0.7474609374999668, b=0.7476562499999668, c=0.7475585937499668.\n",
      "Значення: а=0.7475585937499668, b=0.7476562499999668, c=0.7476074218749669.\n",
      "Значення: а=0.7475585937499668, b=0.7476074218749669, c=0.7475830078124668.\n",
      "Значення: а=0.7475585937499668, b=0.7475830078124668, c=0.7475708007812167.\n",
      "Значення: а=0.7475708007812167, b=0.7475830078124668, c=0.7475769042968418.\n",
      "Значення: а=0.7475708007812167, b=0.7475769042968418, c=0.7475738525390292.\n",
      "Значення: а=0.7475708007812167, b=0.7475738525390292, c=0.747572326660123.\n",
      "Значення: а=0.747572326660123, b=0.7475738525390292, c=0.747573089599576.\n",
      "Значення: а=0.747573089599576, b=0.7475738525390292, c=0.7475734710693026.\n",
      "Наближена відповідь = 0.747573661804166\n",
      "--------------------------------------------------\n"
     ]
    }
   ],
   "source": [
    "approx_roots = [0]*7\n",
    "i = 0\n",
    "for inter in inter_of_roots:\n",
    "    approx_roots[i] = bisec(inter[0], inter[1], eq1)\n",
    "    i += 1"
   ]
  },
  {
   "cell_type": "code",
   "execution_count": 12,
   "metadata": {
    "scrolled": true
   },
   "outputs": [
    {
     "name": "stdout",
     "output_type": "stream",
     "text": [
      "x0=-6.000000000000028, x1=-6.021876957759354\n",
      "x1=-6.021876957759354, x2=-6.023646788559536\n",
      "x2=-6.023646788559536, x3=-6.023787945110595\n",
      "x3=-6.023787945110595, x4=-6.023799190453797\n",
      "x4=-6.023799190453797, x5=-6.023800086240712\n",
      "x5=-6.023800086240712, x6=-6.023800157597215\n",
      "x6=-6.023800157597215, x7=-6.023800163281319\n",
      "x7=-6.023800163281319, x8=-6.023800163734105\n",
      "x8=-6.023800163734105, x9=-6.023800163770172\n",
      "--------------------------------------------------\n",
      "x0=-2.0000000000000338, x1=-2.075091100401417\n",
      "x1=-2.075091100401417, x2=-2.0796766426907336\n",
      "x2=-2.0796766426907336, x3=-2.0799194771974263\n",
      "x3=-2.0799194771974263, x4=-2.0799322308277057\n",
      "x4=-2.0799322308277057, x5=-2.079932900353558\n",
      "x5=-2.079932900353558, x6=-2.079932935500773\n",
      "x6=-2.079932935500773, x7=-2.0799329373458484\n",
      "--------------------------------------------------\n",
      "x0=-1.200000000000033, x1=-1.2768365435744993\n",
      "x1=-1.2768365435744993, x2=-1.279055346964997\n",
      "x2=-1.279055346964997, x3=-1.2791098845048752\n",
      "x3=-1.2791098845048752, x4=-1.279111218764399\n",
      "x4=-1.279111218764399, x5=-1.2791112514032692\n",
      "--------------------------------------------------\n",
      "x0=-0.200000000000033, x1=-0.23383445156496802\n",
      "x1=-0.23383445156496802, x2=-0.23974901194638157\n",
      "x2=-0.23974901194638157, x3=-0.24067018682472346\n",
      "x3=-0.24067018682472346, x4=-0.24081091180847994\n",
      "x4=-0.24081091180847994, x5=-0.24083234578948307\n",
      "x5=-0.24083234578948307, x6=-0.24083560893529724\n",
      "x6=-0.24083560893529724, x7=-0.24083610568769065\n",
      "x7=-0.24083610568769065, x8=-0.2408361813080724\n",
      "--------------------------------------------------\n",
      "x0=0.099999999999967, x1=0.14294704238486433\n",
      "x1=0.14294704238486433, x2=0.14327993266840125\n",
      "x2=0.14327993266840125, x3=0.1432766018319876\n",
      "--------------------------------------------------\n",
      "x0=0.699999999999967, x1=0.6518936354746842\n",
      "x1=0.6518936354746842, x2=0.636827738585653\n",
      "x2=0.636827738585653, x3=0.6347369903422947\n",
      "x3=0.6347369903422947, x4=0.6344992114858103\n",
      "x4=0.6344992114858103, x5=0.634472881373486\n",
      "x5=0.634472881373486, x6=0.6344699745496349\n",
      "x6=0.6344699745496349, x7=0.6344696537459624\n",
      "--------------------------------------------------\n",
      "x0=0.699999999999967, x1=0.7199507980383045\n",
      "x1=0.7199507980383045, x2=0.7334998344421689\n",
      "x2=0.7334998344421689, x3=0.740969052350623\n",
      "x3=0.740969052350623, x4=0.7446056304544758\n",
      "x4=0.7446056304544758, x5=0.7462670672409792\n",
      "x5=0.7462670672409792, x6=0.7470037962440689\n",
      "x6=0.7470037962440689, x7=0.7473261309935805\n",
      "x7=0.7473261309935805, x8=0.7474663294309204\n",
      "x8=0.7474663294309204, x9=0.7475271515339228\n",
      "x9=0.7475271515339228, x10=0.7475535084271454\n",
      "x10=0.7475535084271454, x11=0.7475649244944726\n",
      "x11=0.7475649244944726, x12=0.7475698681436063\n",
      "x12=0.7475698681436063, x13=0.7475720087620724\n",
      "x13=0.7475720087620724, x14=0.7475729356213358\n",
      "x14=0.7475729356213358, x15=0.7475733369322007\n",
      "x15=0.7475733369322007, x16=0.7475735106902109\n",
      "x16=0.7475735106902109, x17=0.7475735859230346\n",
      "--------------------------------------------------\n"
     ]
    }
   ],
   "source": [
    "approx_roots_1 = [0]*7\n",
    "i = 0\n",
    "for inter in inter_of_roots:\n",
    "    approx_roots_1[i] = hord(inter[0], inter[1], eq1)\n",
    "    i += 1"
   ]
  },
  {
   "cell_type": "code",
   "execution_count": 13,
   "metadata": {},
   "outputs": [
    {
     "name": "stdout",
     "output_type": "stream",
     "text": [
      "x0=-6.100000000000028, x1=-6.02960196792181, f(X)=-10716.529992130552\n",
      "x1=-6.02960196792181, x2=-6.023836824714917, f(X)=-67.28975846388528\n",
      "x2=-6.023836824714917, x3=-6.023800165247972, f(X)=-0.0027066047044854713\n",
      "x3=-6.023800165247972, x4=-6.023800163773295, f(X)=-4.418382104631746e-09\n",
      "--------------------------------------------------\n",
      "x0=-2.100000000000034, x1=-2.0809512094793736, f(X)=6.173235855536376\n",
      "x1=-2.0809512094793736, x2=-2.0799357379579093, f(X)=0.016931335012912996\n",
      "x2=-2.0799357379579093, x3=-2.0799329374693327, f(X)=1.285415578422544e-07\n",
      "--------------------------------------------------\n",
      "x0=-1.3000000000000331, x1=-1.2796006366464394, f(X)=-0.6500499765991776\n",
      "x1=-1.2796006366464394, x2=-1.2791115444642283, f(X)=-0.00038795422361204146\n",
      "x2=-1.2791115444642283, x3=-1.279111252221809, f(X)=-1.3807266441290267e-10\n",
      "--------------------------------------------------\n",
      "x0=-0.300000000000033, x1=-0.2485199582827393, f(X)=1.7606215629458006\n",
      "x1=-0.2485199582827393, x2=-0.24100928450132145, f(X)=0.03876638526801557\n",
      "x2=-0.24100928450132145, x3=-0.24083628699445891, f(X)=2.0618113882875377e-05\n",
      "x3=-0.24083628699445891, x4=-0.24083619488681224, f(X)=5.844214001626824e-12\n",
      "--------------------------------------------------\n",
      "x0=0.14444444444441146, x1=0.14327692286309907, f(X)=3.900727007533078e-05\n",
      "x1=0.14327692286309907, x2=0.1432766352713305, f(X)=2.5508484213787597e-12\n",
      "--------------------------------------------------\n",
      "x0=0.599999999999967, x1=0.6318956330785552, f(X)=0.2671499340571373\n",
      "x1=0.6318956330785552, x2=0.6344407240567992, f(X)=0.0029641915247466954\n",
      "x2=0.6344407240567992, x3=0.6344696100959258, f(X)=3.9548589114701826e-07\n",
      "--------------------------------------------------\n",
      "x0=0.7555555555555226, x1=0.7482653521547622, f(X)=0.11156621947902323\n",
      "x1=0.7482653521547622, x2=0.7475795475207189, f(X)=0.0009441729696675338\n",
      "x2=0.7475795475207189, x3=0.7475736438056595, f(X)=6.968382137984008e-08\n",
      "--------------------------------------------------\n"
     ]
    }
   ],
   "source": [
    "approx_roots_2 = [0]*7\n",
    "i = 0\n",
    "for inter in inter_of_roots:\n",
    "    approx_roots_2[i] = neuton(inter[0], inter[1], eq1)\n",
    "    i += 1\n"
   ]
  },
  {
   "cell_type": "code",
   "execution_count": 14,
   "metadata": {},
   "outputs": [
    {
     "name": "stdout",
     "output_type": "stream",
     "text": [
      "Рівняння 1: 61*x**7+494*x**6+680*x**5-636*x**4-777*x**3+420*x**2+69*x-16\n",
      "--------------------bisec----------------------hord-------------------neuton\n",
      "Наближений корінь  x1= -6.023800163774314, -6.023800163770172, -6.023800163773295\n",
      "Наближений корінь  x2= -2.079932937026059, -2.0799329373458484, -2.0799329374693327\n",
      "Наближений корінь  x3= -1.2791112542152738, -1.2791112514032692, -1.279111252221809\n",
      "Наближений корінь  x4= -0.24083623886111696, -0.2408361813080724, -0.24083619488681224\n",
      "Наближений корінь  x5= 0.14327659606930296, 0.1432766018319876, 0.1432766352713305\n",
      "Наближений корінь  x6= 0.6344696044921545, 0.6344696537459624, 0.6344696100959258\n",
      "Наближений корінь  x7= 0.747573661804166, 0.7475735859230346, 0.7475736438056595\n"
     ]
    }
   ],
   "source": [
    "print(f\"Рівняння 1: 61*x**7+494*x**6+680*x**5-636*x**4-777*x**3+420*x**2+69*x-16\")\n",
    "print(\"--------------------bisec----------------------hord-------------------neuton\")\n",
    "for i in range(7):\n",
    "    print(f\"Наближений корінь  x{i+1}= {approx_roots[i]}, {approx_roots_1[i]}, {approx_roots_2[i]}\")"
   ]
  },
  {
   "cell_type": "code",
   "execution_count": 13,
   "metadata": {},
   "outputs": [
    {
     "name": "stdout",
     "output_type": "stream",
     "text": [
      "Значення: а=0.7999999999999999, b=0.95, c=0.875.\n",
      "Значення: а=0.875, b=0.95, c=0.9125.\n",
      "Значення: а=0.875, b=0.9125, c=0.89375.\n",
      "Значення: а=0.875, b=0.89375, c=0.884375.\n",
      "Значення: а=0.884375, b=0.89375, c=0.8890625000000001.\n",
      "Значення: а=0.884375, b=0.8890625000000001, c=0.88671875.\n",
      "Значення: а=0.88671875, b=0.8890625000000001, c=0.887890625.\n",
      "Значення: а=0.88671875, b=0.887890625, c=0.8873046875.\n",
      "Значення: а=0.88671875, b=0.8873046875, c=0.88701171875.\n",
      "Значення: а=0.88671875, b=0.88701171875, c=0.886865234375.\n",
      "Значення: а=0.88671875, b=0.886865234375, c=0.8867919921875.\n",
      "Значення: а=0.88671875, b=0.8867919921875, c=0.88675537109375.\n",
      "Значення: а=0.88675537109375, b=0.8867919921875, c=0.8867736816406251.\n",
      "Значення: а=0.8867736816406251, b=0.8867919921875, c=0.8867828369140626.\n",
      "Наближена відповідь = 0.8867782592773439\n",
      "--------------------------------------------------\n"
     ]
    }
   ],
   "source": [
    "approx_root = 0\n",
    "approx_root = bisec(inter_of_root[0], inter_of_root[1], eq2)"
   ]
  },
  {
   "cell_type": "code",
   "execution_count": 14,
   "metadata": {
    "scrolled": false
   },
   "outputs": [
    {
     "name": "stdout",
     "output_type": "stream",
     "text": [
      "x0=0.95, x1=0.887450714469015\n",
      "x1=0.887450714469015, x2=0.886784764105411\n",
      "--------------------------------------------------\n"
     ]
    }
   ],
   "source": [
    "approx_root_1 = 0\n",
    "approx_root_1 = hord(inter_of_root[0], inter_of_root[1], eq2)"
   ]
  },
  {
   "cell_type": "code",
   "execution_count": 15,
   "metadata": {},
   "outputs": [
    {
     "name": "stdout",
     "output_type": "stream",
     "text": [
      "x0=0.7999999999999999, x1=0.885723134407707\n",
      "x1=0.885723134407707, x2=0.886777057440289\n",
      "--------------------------------------------------\n"
     ]
    }
   ],
   "source": [
    "approx_root_2 = 0\n",
    "approx_root_2 = neuton(inter_of_root[0], inter_of_root[1], eq2)"
   ]
  },
  {
   "cell_type": "code",
   "execution_count": 16,
   "metadata": {},
   "outputs": [
    {
     "name": "stdout",
     "output_type": "stream",
     "text": [
      "Рівняння 2: x**0.5 - cos(0.387*x)\n",
      "--------------------bisec----------------------hord-------------------neuton\n",
      "Наближений корінь  x= 0.8867782592773439, 0.886784764105411, 0.886777057440289\n"
     ]
    }
   ],
   "source": [
    "print(f\"Рівняння 2: x**0.5 - cos(0.387*x)\")\n",
    "print(\"--------------------bisec----------------------hord-------------------neuton\")\n",
    "print(f\"Наближений корінь  x= {approx_root}, {approx_root_1}, {approx_root_2}\")"
   ]
  },
  {
   "cell_type": "code",
   "execution_count": 23,
   "metadata": {},
   "outputs": [
    {
     "data": {
      "text/plain": [
       "{}"
      ]
     },
     "execution_count": 23,
     "metadata": {},
     "output_type": "execute_result"
    }
   ],
   "source": [
    "x=symbols('x')\n",
    "roots(eq1(x), x)"
   ]
  },
  {
   "cell_type": "code",
   "execution_count": 27,
   "metadata": {},
   "outputs": [
    {
     "name": "stdout",
     "output_type": "stream",
     "text": [
      "Рівняння 1: 61*x**7+494*x**6+680*x**5-636*x**4-777*x**3+420*x**2+69*x-16\n",
      "fsolve корінь  x1= [-6.02380016]\n",
      "fsolve корінь  x2= [-2.07993294]\n",
      "fsolve корінь  x3= [-1.27911125]\n",
      "fsolve корінь  x4= [-0.24083619]\n",
      "fsolve корінь  x5= [0.14327664]\n",
      "fsolve корінь  x6= [0.63446961]\n",
      "fsolve корінь  x7= [0.74757364]\n"
     ]
    }
   ],
   "source": [
    "roots_scipy = [0]*7\n",
    "\n",
    "roots_scipy[0] = fsolve(eq1, -6)\n",
    "roots_scipy[1] = fsolve(eq1, -2)\n",
    "roots_scipy[2] = fsolve(eq1, -1)\n",
    "roots_scipy[3] = fsolve(eq1, -0.2)\n",
    "roots_scipy[4] = fsolve(eq1, 0.1)\n",
    "roots_scipy[5] = fsolve(eq1, 0.6)\n",
    "roots_scipy[6] = fsolve(eq1, 0.7)\n",
    "print(f\"Рівняння 1: 61*x**7+494*x**6+680*x**5-636*x**4-777*x**3+420*x**2+69*x-16\")\n",
    "for i in range(7):\n",
    "    print(f\"fsolve корінь  x{i+1}= {roots_scipy[i]}\")"
   ]
  },
  {
   "cell_type": "code",
   "execution_count": 37,
   "metadata": {},
   "outputs": [
    {
     "name": "stdout",
     "output_type": "stream",
     "text": [
      "Рівняння 2: x**0.5 - cos(0.387*x)\n",
      "fsolve корінь  x= [0.88677719]\n"
     ]
    }
   ],
   "source": [
    "def eq(x):\n",
    "    return x**0.5 - np.cos(0.387*x)\n",
    "\n",
    "root2_scipy = 0\n",
    "root2_scipy = fsolve(eq, 0.6)\n",
    "print(f\"Рівняння 2: x**0.5 - cos(0.387*x)\")\n",
    "print(f\"fsolve корінь  x= {root2_scipy}\")"
   ]
  },
  {
   "cell_type": "code",
   "execution_count": null,
   "metadata": {},
   "outputs": [],
   "source": []
  },
  {
   "cell_type": "code",
   "execution_count": null,
   "metadata": {},
   "outputs": [],
   "source": []
  }
 ],
 "metadata": {
  "kernelspec": {
   "display_name": "Python 3",
   "language": "python",
   "name": "python3"
  },
  "language_info": {
   "codemirror_mode": {
    "name": "ipython",
    "version": 3
   },
   "file_extension": ".py",
   "mimetype": "text/x-python",
   "name": "python",
   "nbconvert_exporter": "python",
   "pygments_lexer": "ipython3",
   "version": "3.8.3"
  }
 },
 "nbformat": 4,
 "nbformat_minor": 5
}
