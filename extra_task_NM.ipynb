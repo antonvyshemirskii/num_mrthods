{
 "cells": [
  {
   "cell_type": "code",
   "execution_count": 12,
   "metadata": {},
   "outputs": [],
   "source": [
    "import numpy as np\n",
    "import matplotlib.pyplot as plt\n",
    "from scipy.optimize import fsolve"
   ]
  },
  {
   "cell_type": "code",
   "execution_count": 13,
   "metadata": {},
   "outputs": [],
   "source": [
    "def eq1(x):\n",
    "    return x - np.cos(x)\n",
    "\n",
    "def eq1d(x):\n",
    "    return 1 + np.sin(x)\n",
    "\n",
    "def eq2d(x):\n",
    "    return np.cos(x)"
   ]
  },
  {
   "cell_type": "code",
   "execution_count": 14,
   "metadata": {},
   "outputs": [
    {
     "name": "stdout",
     "output_type": "stream",
     "text": [
      "в точці 0 функція набуває значення -1.0\n",
      "в точці 0.1 функція набуває значення -0.8950041652780258\n",
      "в точці 0.2 функція набуває значення -0.7800665778412417\n",
      "в точці 0.30000000000000004 функція набуває значення -0.6553364891256059\n",
      "в точці 0.4 функція набуває значення -0.5210609940028851\n",
      "в точці 0.5 функція набуває значення -0.37758256189037276\n",
      "в точці 0.6 функція набуває значення -0.22533561490967835\n",
      "в точці 0.7 функція набуває значення -0.06484218728448854\n",
      "в точці 0.7999999999999999 функція набуває значення 0.10329329065283444\n",
      "в точці 0.8999999999999999 функція набуває значення 0.2783900317293354\n",
      "в точці 0.9999999999999999 функція набуває значення 0.4596976941318601\n"
     ]
    },
    {
     "data": {
      "text/plain": [
       "[0.7, 0.7999999999999999]"
      ]
     },
     "execution_count": 14,
     "metadata": {},
     "output_type": "execute_result"
    }
   ],
   "source": [
    "inter_of_root = [0, 0]\n",
    "t=0\n",
    "while t<1:\n",
    "    if eq1(t)*eq1(t+0.1)<0:\n",
    "        inter_of_root = [t, t+0.1]\n",
    "    print('в точці', t, 'функція набуває значення', eq1(t))\n",
    "    t =t+0.1\n",
    "inter_of_root"
   ]
  },
  {
   "cell_type": "code",
   "execution_count": 15,
   "metadata": {},
   "outputs": [
    {
     "data": {
      "image/png": "[encoded data removed]",
      "text/plain": [
       "<Figure size 432x288 with 1 Axes>"
      ]
     },
     "metadata": {
      "needs_background": "light"
     },
     "output_type": "display_data"
    }
   ],
   "source": [
    "t=np.linspace(-1,2,1000)\n",
    "plt.plot(t,eq1(t))\n",
    "plt.grid()"
   ]
  },
  {
   "cell_type": "code",
   "execution_count": 23,
   "metadata": {},
   "outputs": [],
   "source": [
    "def simple_neuton(a, b, eq, eq1d, eq2d, eps=0.00001):\n",
    "    k = 0 \n",
    "    x0 = 0\n",
    "    x = [0, 0]\n",
    "    for t in np.linspace(a, b, 10):\n",
    "        if eq(t)*eq2d(t)<0:\n",
    "            x0 = t\n",
    "            break\n",
    "    print(x0)\n",
    "    while abs(x[0]-x[1])> eps or abs(eq(x[0]))> eps:\n",
    "            x[1] = x[0] - eq(x[0])/eq1d(x0)\n",
    "            print(f\"x{k}={x[0]}, x{k+1}={x[1]}, f(x)={eq(x[1])}\")\n",
    "            x[0] = x[1]\n",
    "            k += 1\n",
    "    return x[0]"
   ]
  },
  {
   "cell_type": "code",
   "execution_count": 24,
   "metadata": {},
   "outputs": [
    {
     "name": "stdout",
     "output_type": "stream",
     "text": [
      "0.7\n",
      "x0=0, x1=0.6081919734606518, f(x)=-0.21249046369399538\n",
      "x1=0.6081919734606518, x2=0.7374269679162718, f(x)=-0.0027741088171981954\n",
      "x2=0.7374269679162718, x3=0.7391141586323982, f(x)=4.857759876830681e-05\n",
      "x3=0.7391141586323982, x4=0.7390846141267373, f(x)=-8.687525299144738e-07\n"
     ]
    }
   ],
   "source": [
    "approx_root = simple_neuton(inter_of_root[0], inter_of_root[1], eq1, eq1d, eq2d)"
   ]
  },
  {
   "cell_type": "code",
   "execution_count": 18,
   "metadata": {},
   "outputs": [
    {
     "name": "stdout",
     "output_type": "stream",
     "text": [
      "Рівняння 2: x - cos(x)\n",
      "Наближений корінь  x= 0.7390846141267373\n",
      "f=-8.687525299144738e-07\n"
     ]
    }
   ],
   "source": [
    "print(f\"Рівняння 2: x - cos(x)\")\n",
    "print(f\"Наближений корінь  x= {approx_root}\")\n",
    "print(f\"f={eq1(approx_root)}\")"
   ]
  },
  {
   "cell_type": "code",
   "execution_count": 19,
   "metadata": {},
   "outputs": [],
   "source": [
    "root_scipy = fsolve(eq1, 0.5)"
   ]
  },
  {
   "cell_type": "code",
   "execution_count": 20,
   "metadata": {},
   "outputs": [
    {
     "name": "stdout",
     "output_type": "stream",
     "text": [
      "[0.73908513]\n",
      "[-8.8817842e-16]\n"
     ]
    }
   ],
   "source": [
    "print(root_scipy)\n",
    "print(eq1(root_scipy))"
   ]
  },
  {
   "cell_type": "code",
   "execution_count": null,
   "metadata": {},
   "outputs": [],
   "source": []
  }
 ],
 "metadata": {
  "kernelspec": {
   "display_name": "Python 3",
   "language": "python",
   "name": "python3"
  },
  "language_info": {
   "codemirror_mode": {
    "name": "ipython",
    "version": 3
   },
   "file_extension": ".py",
   "mimetype": "text/x-python",
   "name": "python",
   "nbconvert_exporter": "python",
   "pygments_lexer": "ipython3",
   "version": "3.8.3"
  }
 },
 "nbformat": 4,
 "nbformat_minor": 4
}
