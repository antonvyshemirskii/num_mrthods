{
  "nbformat": 4,
  "nbformat_minor": 0,
  "metadata": {
    "colab": {
      "name": "task_2.ipynb",
      "provenance": [],
      "collapsed_sections": []
    },
    "kernelspec": {
      "name": "python3",
      "display_name": "Python 3"
    },
    "language_info": {
      "name": "python"
    }
  },
  "cells": [
    {
      "cell_type": "code",
      "execution_count": 6,
      "metadata": {
        "id": "5QzD7tc3xMn5"
      },
      "outputs": [],
      "source": [
        "import numpy as np\n",
        "from scipy.optimize import fsolve"
      ]
    },
    {
      "cell_type": "code",
      "source": [
        "def func(x):\n",
        "    return np.array([np.tan(x[0] * x[1]) - x[0] ** 2,\n",
        "            0.5 * x[0] ** 2 + 2 * x[1]**2 - 1])\n",
        "\n",
        "def loss(xk, xk_1):\n",
        "  return max(np.abs(xk[0]-xk_1[0],), np.abs(xk[1] - xk_1[1]))"
      ],
      "metadata": {
        "id": "cYWfiBFl3xym"
      },
      "execution_count": 7,
      "outputs": []
    },
    {
      "cell_type": "code",
      "source": [
        "def simplified_Neuton_method(x, k, eps=0.00001, W_inv = np.array([[-1.45, 0.41], [0.36, 0.31]])):\n",
        "  xk_1 = x - np.dot(W_inv, func(x))\n",
        "  iter = k + 1\n",
        "  if(loss(x, xk_1) < eps):\n",
        "    print(k, format(xk_1[0], '.5f'), format(xk_1[1], '.5f'), format(loss(x, xk_1), '.5f'))\n",
        "    return\n",
        "  print(k, format(xk_1[0], '.5f'), format(xk_1[1], '.5f'), format(loss(x, xk_1), '.5f'))\n",
        "  simplified_Neuton_method(xk_1, iter)"
      ],
      "metadata": {
        "id": "rOUziOrd4MOD"
      },
      "execution_count": null,
      "outputs": []
    },
    {
      "cell_type": "code",
      "source": [
        "print(\"k\\tx\\t y  loss\")\n",
        "print(0, format(0.6, '.5f'), format(0.6, '.5f'), '   -')\n",
        "simplified_Neuton_method(np.array([0.6, 0.6]), 1)"
      ],
      "metadata": {
        "colab": {
          "base_uri": "https://localhost:8080/"
        },
        "id": "63SGg82K6aYY",
        "outputId": "59c9c7aa-4809-4228-bc8f-b70e1eadf59f"
      },
      "execution_count": 9,
      "outputs": [
        {
          "output_type": "stream",
          "name": "stdout",
          "text": [
            "k\tx\t y  loss\n",
            "0 0.60000 0.60000    -\n",
            "1 0.66478 0.62509 0.06478\n",
            "2 0.66278 0.62458 0.00201\n",
            "3 0.66295 0.62460 0.00017\n",
            "4 0.66293 0.62460 0.00002\n",
            "5 0.66293 0.62460 0.00000\n"
          ]
        }
      ]
    },
    {
      "cell_type": "code",
      "source": [
        "print(\"Обчислимо F(x*)\")\n",
        "print(func([0.66293, 0.6246]))"
      ],
      "metadata": {
        "colab": {
          "base_uri": "https://localhost:8080/"
        },
        "id": "uifx7ZEj6kYQ",
        "outputId": "f4a39e44-702a-495c-9d3c-7aae5902fc9b"
      },
      "execution_count": 10,
      "outputs": [
        {
          "output_type": "stream",
          "name": "stdout",
          "text": [
            "Обчислимо F(x*)\n",
            "[-2.21771334e-06 -1.15875500e-05]\n"
          ]
        }
      ]
    },
    {
      "cell_type": "code",
      "source": [
        "print(\"k\\tx\\t y  loss\")\n",
        "print(0, format(1, '.5f'), format(0.9, '.5f'), '   -')\n",
        "simplified_Neuton_method(np.array([1, 0.9]), 1)"
      ],
      "metadata": {
        "colab": {
          "base_uri": "https://localhost:8080/"
        },
        "id": "wLipoJNr8zkl",
        "outputId": "e44b141c-ee26-468f-b198-dc3508b49e17"
      },
      "execution_count": 11,
      "outputs": [
        {
          "output_type": "stream",
          "name": "stdout",
          "text": [
            "k\tx\t y  loss\n",
            "0 1.00000 0.90000    -\n",
            "1 0.91803 0.45914 0.44086\n",
            "2 0.41052 0.64979 0.50751\n",
            "3 0.59161 0.63418 0.18110\n",
            "4 0.66364 0.62479 0.07202\n",
            "5 0.66287 0.62460 0.00076\n",
            "6 0.66294 0.62460 0.00006\n",
            "7 0.66293 0.62460 0.00001\n"
          ]
        }
      ]
    },
    {
      "cell_type": "code",
      "source": [
        "print(\"k\\tx\\t y  loss\")\n",
        "print(0, format(0.662, '.5f'), format(0.624, '.5f'), '   -')\n",
        "simplified_Neuton_method(np.array([0.662, 0.624]), 1)"
      ],
      "metadata": {
        "colab": {
          "base_uri": "https://localhost:8080/"
        },
        "id": "UJiOQ1vV8495",
        "outputId": "f9577351-0233-4bca-96e5-59dfbef6628e"
      },
      "execution_count": 12,
      "outputs": [
        {
          "output_type": "stream",
          "name": "stdout",
          "text": [
            "k\tx\t y  loss\n",
            "0 0.66200 0.62400    -\n",
            "1 0.66296 0.62464 0.00096\n",
            "2 0.66293 0.62460 0.00003\n",
            "3 0.66293 0.62460 0.00000\n"
          ]
        }
      ]
    },
    {
      "cell_type": "code",
      "source": [
        "root = fsolve(func, [0.6, 0.6])\n",
        "root"
      ],
      "metadata": {
        "colab": {
          "base_uri": "https://localhost:8080/"
        },
        "id": "iq2gj1gC9ePh",
        "outputId": "96b62d48-d7cd-4f4b-d72a-22f6e56b0fb7"
      },
      "execution_count": 13,
      "outputs": [
        {
          "output_type": "execute_result",
          "data": {
            "text/plain": [
              "array([0.66293184, 0.62460415])"
            ]
          },
          "metadata": {},
          "execution_count": 13
        }
      ]
    }
  ]
}